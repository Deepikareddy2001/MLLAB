{
 "cells": [
  {
   "cell_type": "code",
   "execution_count": 2,
   "metadata": {},
   "outputs": [
    {
     "name": "stdout",
     "output_type": "stream",
     "text": [
      "Deepika Reddy\n"
     ]
    }
   ],
   "source": [
    "print(\"Deepika Reddy\")"
   ]
  },
  {
   "cell_type": "code",
   "execution_count": 3,
   "metadata": {},
   "outputs": [
    {
     "name": "stdout",
     "output_type": "stream",
     "text": [
      "10 is greater number !\n"
     ]
    }
   ],
   "source": [
    "if 10>3:\n",
    "    print(\"10 is greater number !\")"
   ]
  },
  {
   "cell_type": "code",
   "execution_count": 7,
   "metadata": {},
   "outputs": [
    {
     "name": "stdout",
     "output_type": "stream",
     "text": [
      "1\n",
      "Deepika Reddy\n",
      "1 Deepika Reddy\n",
      "Deepika\n"
     ]
    }
   ],
   "source": [
    "a=1\n",
    "b=\"Deepika Reddy\"\n",
    "print(a) \n",
    "print(b) \n",
    "print(a,b) # printing a and b\n",
    "if a == 1:\n",
    "    print(\"Deepika\")"
   ]
  },
  {
   "cell_type": "code",
   "execution_count": 34,
   "metadata": {},
   "outputs": [
    {
     "name": "stdout",
     "output_type": "stream",
     "text": [
      "1\n",
      "1\n",
      "1.0\n",
      "1j\n",
      "<class 'str'>\n",
      "<class 'int'>\n",
      "<class 'float'>\n",
      "<class 'complex'>\n"
     ]
    }
   ],
   "source": [
    "#casting\n",
    "x = str(1)\n",
    "y = int(1.9)\n",
    "z = float(1)\n",
    "c=1j\n",
    "print(x)\n",
    "print(y)\n",
    "print(z)\n",
    "print(c)\n",
    "print(type(x))\n",
    "print(type(y))\n",
    "print(type(z))\n",
    "print(type(c))"
   ]
  },
  {
   "cell_type": "code",
   "execution_count": 19,
   "metadata": {},
   "outputs": [
    {
     "name": "stdout",
     "output_type": "stream",
     "text": [
      "Palakonda\n",
      "Deepika\n",
      "Reddy\n",
      "Deepika Reddy\n",
      "Deepika Reddy\n",
      "Deepika Reddy\n",
      "Deepika Reddy Deepika Reddy Deepika Reddy\n",
      "Deepika ReddyDeepika Reddy\n",
      "Palakonda\n",
      "Deepika\n",
      "Reddy\n"
     ]
    }
   ],
   "source": [
    "#multiple values to multiple variables\n",
    "x,y,z=\"Palakonda\",\"Deepika\",\"Reddy\"\n",
    "print(x)\n",
    "print(y)\n",
    "print(z)\n",
    "#one value to multiple variables\n",
    "a=b=c=\"Deepika Reddy\"\n",
    "print(a)\n",
    "print(b)\n",
    "print(c)\n",
    "print(a,b,c)\n",
    "print(a+b)#concatination output doesnot have spaces \n",
    "#creating a collection and then splitting up to individual variables\n",
    "fullName=[\"Palakonda\",\"Deepika\",\"Reddy\"]\n",
    "fname,mname,lname=fullName\n",
    "print(fname)\n",
    "print(mname)\n",
    "print(lname)"
   ]
  },
  {
   "cell_type": "code",
   "execution_count": 24,
   "metadata": {},
   "outputs": [
    {
     "name": "stdout",
     "output_type": "stream",
     "text": [
      "My Name is Deepika\n",
      "Studying at Nitte Meenakshi\n",
      "Studying at NMIT\n",
      "I lv to watch Doraemon\n"
     ]
    }
   ],
   "source": [
    "#global variables\n",
    "x=\"Deepika\" # x is a global variable\n",
    "def myName():\n",
    "    print(\"My Name is \"+ x) #using global variable inside function\n",
    "myName() \n",
    "clg=\"NMIT\"\n",
    "def myName1():\n",
    "    clg=\"Nitte Meenakshi\" #local variable\n",
    "    print(\"Studying at \"+clg) #local variables has more dominance over global variable\n",
    "myName1()\n",
    "print(\"Studying at \"+ clg)\n",
    "def gfun():\n",
    "    global fav\n",
    "    fav =\"Doraemon\"\n",
    "gfun()\n",
    "print(\"I lv to watch \"+fav)\n"
   ]
  },
  {
   "cell_type": "code",
   "execution_count": 33,
   "metadata": {},
   "outputs": [
    {
     "name": "stdout",
     "output_type": "stream",
     "text": [
      "97\n"
     ]
    }
   ],
   "source": [
    "#random number generation\n",
    "import random\n",
    "print(random.randrange(10,100))\n"
   ]
  },
  {
   "cell_type": "code",
   "execution_count": 41,
   "metadata": {},
   "outputs": [
    {
     "name": "stdout",
     "output_type": "stream",
     "text": [
      "D\n",
      "13\n",
      "True\n",
      "WOW!,'Deep' is present\n",
      "True\n",
      "OOPS!,'Deepu' is Absent\n"
     ]
    }
   ],
   "source": [
    "#strings\n",
    "Name=\"Deepika Reddy\"\n",
    "print(Name[0])\n",
    "print(len(Name))\n",
    "#in keyword\n",
    "print(\"Deep\" in Name)#in keyword checks whether the word present if exists returns true\n",
    "#if keyword\n",
    "if \"Deep\" in Name:\n",
    "    print(\"WOW!,'Deep' is present\")\n",
    "#NOT keyword\n",
    "print(\"Deepu\" not in Name)\n",
    "#if not\n",
    "if \"Deepu\" not in Name:\n",
    "    print(\"OOPS!,'Deepu' is Absent\")"
   ]
  },
  {
   "cell_type": "code",
   "execution_count": 61,
   "metadata": {},
   "outputs": [
    {
     "name": "stdout",
     "output_type": "stream",
     "text": [
      "Deep\n",
      "pika\n",
      "Reddy\n",
      "Red\n"
     ]
    }
   ],
   "source": [
    "#Slicing\n",
    "Name=\"Deepika Reddy\"\n",
    "print(Name[:4])\n",
    "print(Name[3:7])\n",
    "print(Name[8:])\n",
    "print(Name[-5:-2])\n"
   ]
  },
  {
   "cell_type": "code",
   "execution_count": 67,
   "metadata": {},
   "outputs": [
    {
     "name": "stdout",
     "output_type": "stream",
     "text": [
      " DEEPIKA REDDY\n",
      " deepika reddy\n",
      "Deepika Reddy\n",
      "['', 'Deepika', 'Reddy']\n"
     ]
    }
   ],
   "source": [
    "#inbuilt fuctions for strings\n",
    "Name=\" Deepika Reddy\"\n",
    "print(Name.upper())\n",
    "print(Name.lower())\n",
    "print(Name.strip())\n",
    "print(Name.split(\" \"))"
   ]
  },
  {
   "cell_type": "code",
   "execution_count": null,
   "metadata": {},
   "outputs": [],
   "source": []
  }
 ],
 "metadata": {
  "kernelspec": {
   "display_name": "Python 3",
   "language": "python",
   "name": "python3"
  },
  "language_info": {
   "codemirror_mode": {
    "name": "ipython",
    "version": 3
   },
   "file_extension": ".py",
   "mimetype": "text/x-python",
   "name": "python",
   "nbconvert_exporter": "python",
   "pygments_lexer": "ipython3",
   "version": "3.8.10"
  }
 },
 "nbformat": 4,
 "nbformat_minor": 4
}
